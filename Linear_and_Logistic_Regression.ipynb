{
  "nbformat": 4,
  "nbformat_minor": 0,
  "metadata": {
    "colab": {
      "provenance": []
    },
    "kernelspec": {
      "name": "python3",
      "display_name": "Python 3"
    },
    "language_info": {
      "name": "python"
    }
  },
  "cells": [
    {
      "cell_type": "code",
      "source": [
        "import pandas as pd\n",
        "import numpy as np\n",
        "from sklearn.linear_model import LinearRegression, LogisticRegression\n",
        "from sklearn.preprocessing import StandardScaler\n",
        "from sklearn.metrics import mean_squared_error, r2_score, accuracy_score, confusion_matrix"
      ],
      "metadata": {
        "id": "_r-ptEb9wst-"
      },
      "execution_count": 1,
      "outputs": []
    },
    {
      "cell_type": "code",
      "source": [
        "\n",
        "\n",
        "# Load the training and test datasets\n",
        "train_data = pd.read_csv(\"/content/train_data_normalized.csv\")  # Replace with your actual training dataset path\n",
        "test_data = pd.read_csv(\"/content/test_data_normalized.csv\")    # Replace with your actual test dataset path\n",
        "\n",
        "# Convert 'Cancer' column to numeric\n",
        "train_data['Cancer'] = train_data['Cancer'].astype(int)\n",
        "test_data['Cancer'] = test_data['Cancer'].astype(int)\n",
        "\n",
        "# Separate features (FPKM) and target (Cancer)\n",
        "X_train = train_data[['FPKM_normalized']]\n",
        "y_train = train_data['Cancer']\n",
        "\n",
        "X_test = test_data[['FPKM_normalized']]\n",
        "y_test = test_data['Cancer']\n"
      ],
      "metadata": {
        "id": "PsbrumW5wrqF"
      },
      "execution_count": 2,
      "outputs": []
    },
    {
      "cell_type": "code",
      "source": [
        "# Standardize the features (important for Logistic Regression)\n",
        "scaler = StandardScaler()\n",
        "X_train_scaled = scaler.fit_transform(X_train)\n",
        "X_test_scaled = scaler.transform(X_test)"
      ],
      "metadata": {
        "id": "fxGJXA5awvNf"
      },
      "execution_count": 3,
      "outputs": []
    },
    {
      "cell_type": "code",
      "source": [
        "\n",
        "\n",
        "\n",
        "# Linear Regression\n",
        "print(\"### Linear Regression ###\")\n",
        "linear_model = LinearRegression()\n",
        "linear_model.fit(X_train_scaled, y_train)\n",
        "y_pred_linear = linear_model.predict(X_test_scaled)\n",
        "\n",
        "# Evaluate Linear Regression\n",
        "mse = mean_squared_error(y_test, y_pred_linear)\n",
        "r2 = r2_score(y_test, y_pred_linear)\n",
        "print(f\"Mean Squared Error: {mse}\")\n",
        "print(f\"R^2 Score: {r2}\")\n",
        "\n",
        "# Coefficient of FPKM for Linear Regression\n",
        "print(\"Linear Regression Coefficients:\")\n",
        "print(f\"FPKM Coefficient: {linear_model.coef_[0]}\")\n",
        "print(f\"Intercept: {linear_model.intercept_}\")"
      ],
      "metadata": {
        "colab": {
          "base_uri": "https://localhost:8080/"
        },
        "id": "AaY9b4h-wxcH",
        "outputId": "b51d3f66-ad60-47c2-ded6-7b922c352bee"
      },
      "execution_count": 4,
      "outputs": [
        {
          "output_type": "stream",
          "name": "stdout",
          "text": [
            "### Linear Regression ###\n",
            "Mean Squared Error: 7052.5199707437605\n",
            "R^2 Score: -65466.53538556071\n",
            "Linear Regression Coefficients:\n",
            "FPKM Coefficient: -0.01007433054647081\n",
            "Intercept: 0.7894736842105263\n"
          ]
        }
      ]
    },
    {
      "cell_type": "code",
      "execution_count": 5,
      "metadata": {
        "colab": {
          "base_uri": "https://localhost:8080/"
        },
        "id": "Hzvrk9PFwd5j",
        "outputId": "3736cab1-3bd2-40ca-af36-970f3af55444"
      },
      "outputs": [
        {
          "output_type": "stream",
          "name": "stdout",
          "text": [
            "\n",
            "### Logistic Regression ###\n",
            "Accuracy: 0.8769128203632262\n",
            "Confusion Matrix:\n",
            "[[    601  403551]\n",
            " [   1523 2885277]]\n",
            "Logistic Regression Coefficients:\n",
            "FPKM Coefficient: -0.05248360327789048\n",
            "Intercept: 1.3224087082744829\n"
          ]
        }
      ],
      "source": [
        "\n",
        "\n",
        "# Logistic Regression\n",
        "print(\"\\n### Logistic Regression ###\")\n",
        "logistic_model = LogisticRegression()\n",
        "logistic_model.fit(X_train_scaled, y_train)\n",
        "y_pred_logistic = logistic_model.predict(X_test_scaled)\n",
        "\n",
        "# Evaluate Logistic Regression\n",
        "accuracy = accuracy_score(y_test, y_pred_logistic)\n",
        "conf_matrix = confusion_matrix(y_test, y_pred_logistic)\n",
        "print(f\"Accuracy: {accuracy}\")\n",
        "print(\"Confusion Matrix:\")\n",
        "print(conf_matrix)\n",
        "\n",
        "# Coefficient of FPKM for Logistic Regression\n",
        "print(\"Logistic Regression Coefficients:\")\n",
        "print(f\"FPKM Coefficient: {logistic_model.coef_[0][0]}\")\n",
        "print(f\"Intercept: {logistic_model.intercept_[0]}\")\n"
      ]
    },
    {
      "cell_type": "code",
      "source": [
        "\n",
        "# Interpret Results\n",
        "if linear_model.coef_[0] > 0:\n",
        "    print(\"Linear Regression: FPKM is positively related to Cancer.\")\n",
        "else:\n",
        "    print(\"Linear Regression: FPKM is negatively related to Cancer.\")\n",
        "\n",
        "if logistic_model.coef_[0][0] > 0:\n",
        "    print(\"Logistic Regression: Higher FPKM values increase the probability of Cancer.\")\n",
        "else:\n",
        "    print(\"Logistic Regression: Higher FPKM values decrease the probability of Cancer.\")\n"
      ],
      "metadata": {
        "colab": {
          "base_uri": "https://localhost:8080/"
        },
        "id": "UdCezQdqw0ow",
        "outputId": "f9c828eb-c04e-43e1-e46d-055bf6fc046c"
      },
      "execution_count": 6,
      "outputs": [
        {
          "output_type": "stream",
          "name": "stdout",
          "text": [
            "Linear Regression: FPKM is negatively related to Cancer.\n",
            "Logistic Regression: Higher FPKM values decrease the probability of Cancer.\n"
          ]
        }
      ]
    },
    {
      "cell_type": "markdown",
      "source": [
        "#**Interpretation of Results**\n",
        "\n",
        "#1. Linear Regression Results\n",
        "\n",
        "**Mean Squared Error (MSE)**\n",
        "\n",
        "A very high MSE (7052.52) indicates the linear regression model's predictions are far off from the actual values. This suggests the model is not effectively capturing the relationship between the independent variable (FPKM) and the target variable (Cancer).\n",
        "\n",
        "**R² Score**\n",
        "\n",
        "The R Square Score (−65466.54) is extremely negative, indicating that the model is performing much worse than simply predicting the mean of the target variable for all samples. This signifies that the linear relationship between FPKM and Cancer is likely weak or non-existent.\n",
        "\n",
        "**FPKM Coefficient**\n",
        "\n",
        "The FPKM coefficient (−0.0101) is small and negative, suggesting a very weak negative relationship between the FPKM values and the target variable (Cancer). However, this small coefficient, combined with the poor performance metrics, implies the relationship may not be practically significant.\n",
        "\n",
        "\n",
        "#2. Logistic Regression Results\n",
        "\n",
        "**Accuracy**\n",
        "\n",
        "The accuracy (87.69%) indicates that the logistic regression model is performing reasonably well in predicting cancerous and non-cancerous cases. However, accuracy alone may not fully reflect the model's performance, given the imbalance in the confusion matrix.\n",
        "\n",
        "**Confusion Matrix**\n",
        "\n",
        "True Negatives (601) - The model correctly classified 601 samples as non-cancerous.\n",
        "\n",
        "False Positives (403,551) - A very large number of non-cancerous samples were incorrectly classified as cancerous.\n",
        "\n",
        "False Negatives (1,523) - A smaller number of cancerous samples were incorrectly classified as non-cancerous.\n",
        "\n",
        "True Positives (2885,277) -  The majority of cancerous samples were correctly identified.\n",
        "The large imbalance between false positives and true negatives suggests that the dataset may be imbalanced or that the model may be biased towards predicting cancerous cases.\n",
        "\n",
        "**FPKM Coefficient**\n",
        "\n",
        "The FPKM coefficient (−0.0525) is negative, indicating that higher FPKM values are associated with a lower likelihood of cancer. This aligns with the linear regression results but is more meaningful in the context of logistic regression since we are interpreting probabilities here.\n",
        "\n",
        "**Intercept**\n",
        "\n",
        "The intercept (1.32) shifts the decision boundary. Combined with the negative coefficient, it indicates that lower FPKM values are associated with a higher probability of cancer.\n",
        "\n",
        "\n",
        "#3. Gene-Wise Interpretation\n",
        "\n",
        "**Since the FPKM values correspond to different genes** -\n",
        "\n",
        "The negative coefficients in both models suggest that the genes with higher FPKM values may have a protective or non-cancerous role in the dataset.\n",
        "Genes with lower FPKM values may be positively associated with cancer, but this needs further biological validation and exploratory data analysis.\n",
        "\n",
        "#4. Conclusion\n",
        "\n",
        "**Linear Regression**\n",
        "\n",
        "It is not suitable for this task based on poor metrics (high MSE, negative R Square).\n",
        "\n",
        "FPKM might not have a strong linear relationship with the cancer outcome.\n",
        "\n",
        "**Logistic Regression**\n",
        "\n",
        "Provides a better understanding of the relationship between FPKM and cancer probability.\n",
        "\n",
        "\n"
      ],
      "metadata": {
        "id": "qIIXX13Jy-uO"
      }
    }
  ]
}