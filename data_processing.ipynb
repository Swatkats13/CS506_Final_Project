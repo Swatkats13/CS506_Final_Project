{
 "cells": [
  {
   "cell_type": "code",
   "execution_count": 2,
   "metadata": {},
   "outputs": [],
   "source": [
    "import pickle\n",
    "import pandas as pd\n",
    "import seaborn as sns\n",
    "from os.path import exists\n",
    "import matplotlib.pyplot as plt\n",
    "import numpy as np"
   ]
  },
  {
   "cell_type": "markdown",
   "metadata": {},
   "source": [
    "# Load Data"
   ]
  },
  {
   "cell_type": "code",
   "execution_count": 2,
   "metadata": {},
   "outputs": [
    {
     "name": "stdout",
     "output_type": "stream",
     "text": [
      "(285, 46)\n",
      "  !Sample_geo_accession           !Sample_status !Sample_submission_date  \\\n",
      "0          \"GSM1662534\"  \"Public on Oct 30 2015\"           \"Apr 21 2015\"   \n",
      "1          \"GSM1662535\"  \"Public on Oct 30 2015\"           \"Apr 21 2015\"   \n",
      "2          \"GSM1662536\"  \"Public on Oct 30 2015\"           \"Apr 21 2015\"   \n",
      "3          \"GSM1662537\"  \"Public on Oct 30 2015\"           \"Apr 21 2015\"   \n",
      "4          \"GSM1662538\"  \"Public on Oct 30 2015\"           \"Apr 21 2015\"   \n",
      "\n",
      "  !Sample_last_update_date !Sample_type !Sample_channel_count  \\\n",
      "0            \"May 15 2019\"        \"SRA\"                   \"1\"   \n",
      "1            \"May 15 2019\"        \"SRA\"                   \"1\"   \n",
      "2            \"May 15 2019\"        \"SRA\"                   \"1\"   \n",
      "3            \"May 15 2019\"        \"SRA\"                   \"1\"   \n",
      "4            \"May 15 2019\"        \"SRA\"                   \"1\"   \n",
      "\n",
      "  !Sample_source_name_ch1 !Sample_organism_ch1 !Sample_characteristics_ch1  \\\n",
      "0    \"3-Breast-Her2-ampl\"       \"Homo sapiens\"             \"tissue: blood\"   \n",
      "1           \"8-Breast-WT\"       \"Homo sapiens\"             \"tissue: blood\"   \n",
      "2   \"10-Breast-Her2-ampl\"       \"Homo sapiens\"             \"tissue: blood\"   \n",
      "3            \"Breast-100\"       \"Homo sapiens\"             \"tissue: blood\"   \n",
      "4   \"15-Breast-Her2-ampl\"       \"Homo sapiens\"             \"tissue: blood\"   \n",
      "\n",
      "  !Sample_characteristics_ch1.1  ... !Sample_instrument_model  \\\n",
      "0     \"cell type: Thrombocytes\"  ...    \"Illumina HiSeq 2500\"   \n",
      "1     \"cell type: Thrombocytes\"  ...    \"Illumina HiSeq 2500\"   \n",
      "2     \"cell type: Thrombocytes\"  ...    \"Illumina HiSeq 2500\"   \n",
      "3     \"cell type: Thrombocytes\"  ...    \"Illumina HiSeq 2500\"   \n",
      "4     \"cell type: Thrombocytes\"  ...    \"Illumina HiSeq 2500\"   \n",
      "\n",
      "  !Sample_library_selection !Sample_library_source !Sample_library_strategy  \\\n",
      "0                    \"cDNA\"       \"transcriptomic\"                \"RNA-Seq\"   \n",
      "1                    \"cDNA\"       \"transcriptomic\"                \"RNA-Seq\"   \n",
      "2                    \"cDNA\"       \"transcriptomic\"                \"RNA-Seq\"   \n",
      "3                    \"cDNA\"       \"transcriptomic\"                \"RNA-Seq\"   \n",
      "4                    \"cDNA\"       \"transcriptomic\"                \"RNA-Seq\"   \n",
      "\n",
      "                                    !Sample_relation  \\\n",
      "0  \"BioSample: https://www.ncbi.nlm.nih.gov/biosa...   \n",
      "1  \"BioSample: https://www.ncbi.nlm.nih.gov/biosa...   \n",
      "2  \"BioSample: https://www.ncbi.nlm.nih.gov/biosa...   \n",
      "3  \"BioSample: https://www.ncbi.nlm.nih.gov/biosa...   \n",
      "4  \"BioSample: https://www.ncbi.nlm.nih.gov/biosa...   \n",
      "\n",
      "                                  !Sample_relation.1  \\\n",
      "0  \"SRA: https://www.ncbi.nlm.nih.gov/sra?term=SR...   \n",
      "1  \"SRA: https://www.ncbi.nlm.nih.gov/sra?term=SR...   \n",
      "2  \"SRA: https://www.ncbi.nlm.nih.gov/sra?term=SR...   \n",
      "3  \"SRA: https://www.ncbi.nlm.nih.gov/sra?term=SR...   \n",
      "4  \"SRA: https://www.ncbi.nlm.nih.gov/sra?term=SR...   \n",
      "\n",
      "  !Sample_supplementary_file_1 !series_matrix_table_begin      \"ID_REF\"  \\\n",
      "0                       \"NONE\"                        NaN  \"GSM1662534\"   \n",
      "1                       \"NONE\"                        NaN  \"GSM1662535\"   \n",
      "2                       \"NONE\"                        NaN  \"GSM1662536\"   \n",
      "3                       \"NONE\"                        NaN  \"GSM1662537\"   \n",
      "4                       \"NONE\"                        NaN  \"GSM1662538\"   \n",
      "\n",
      "  !series_matrix_table_end  \n",
      "0                      NaN  \n",
      "1                      NaN  \n",
      "2                      NaN  \n",
      "3                      NaN  \n",
      "4                      NaN  \n",
      "\n",
      "[5 rows x 46 columns]\n"
     ]
    }
   ],
   "source": [
    "series_matrix = pd.read_csv('data/GSE68086_series_matrix.csv')\n",
    "print(series_matrix.shape)\n",
    "print(series_matrix.head())"
   ]
  },
  {
   "cell_type": "code",
   "execution_count": 3,
   "metadata": {},
   "outputs": [
    {
     "name": "stdout",
     "output_type": "stream",
     "text": [
      "(57736, 286)\n",
      "        Unnamed: 0  3-Breast-Her2-ampl  8-Breast-WT  10-Breast-Her2-ampl  \\\n",
      "0  ENSG00000000003                   0            0                    0   \n",
      "1  ENSG00000000005                   0            0                    0   \n",
      "2  ENSG00000000419                  44           14                   16   \n",
      "3  ENSG00000000457                  26            1                   14   \n",
      "4  ENSG00000000460                  81           98                   18   \n",
      "\n",
      "   Breast-100  15-Breast-Her2-ampl  16-Breast-WT  21-Breast-WT  \\\n",
      "0           0                   17             0             0   \n",
      "1           0                    0             0             0   \n",
      "2           8                    9             0           139   \n",
      "3           0                    4            20             1   \n",
      "4          17                    0            20           144   \n",
      "\n",
      "   33-Breast-Her2-ampl  42-Breast-Her2-ampl  ...  MGH-NSCLC-L20-TR500  \\\n",
      "0                    0                    0  ...                    0   \n",
      "1                    0                    0  ...                    0   \n",
      "2                  108                   55  ...                    2   \n",
      "3                   26                   24  ...                    0   \n",
      "4                   26                   97  ...                   23   \n",
      "\n",
      "   MGH-NSCLC-L22-TR462  MGH-NSCLC-L23-TR524  MGH-NSCLC-L25-TR480  \\\n",
      "0                    5                   10                    9   \n",
      "1                    0                    0                    0   \n",
      "2                   41                   40                   15   \n",
      "3                    0                    0                    0   \n",
      "4                    1                    6                   22   \n",
      "\n",
      "   MGH-NSCLC-L39-TR519  MGH-NSCLC-L40-TR520  MGH-NSCLC-L51-TR521  \\\n",
      "0                    0                    0                    0   \n",
      "1                    0                    0                    0   \n",
      "2                    1                    0                   13   \n",
      "3                    0                    0                    0   \n",
      "4                   30                    0                    1   \n",
      "\n",
      "   MGH-NSCLC-L58-TR525  MGH-NSCLC-L59-TR522  MGH-NSCLC-L65-TR523  \n",
      "0                    0                    0                    0  \n",
      "1                    0                    0                    0  \n",
      "2                    0                    0                   10  \n",
      "3                    0                    0                    0  \n",
      "4                   50                    6                    2  \n",
      "\n",
      "[5 rows x 286 columns]\n"
     ]
    }
   ],
   "source": [
    "TEP_data = pd.read_csv('data/GSE68086_TEP_data_matrix.csv')\n",
    "print(TEP_data.shape)\n",
    "print(TEP_data.head())"
   ]
  },
  {
   "cell_type": "markdown",
   "metadata": {},
   "source": [
    "# Clean Data"
   ]
  },
  {
   "cell_type": "code",
   "execution_count": 4,
   "metadata": {},
   "outputs": [
    {
     "name": "stdout",
     "output_type": "stream",
     "text": [
      "                  Source  Cancer Type_\"Breast\"  Cancer Type_\"CRC\"  \\\n",
      "0   \"3-Breast-Her2-ampl\"                  True              False   \n",
      "1          \"8-Breast-WT\"                  True              False   \n",
      "2  \"10-Breast-Her2-ampl\"                  True              False   \n",
      "3           \"Breast-100\"                  True              False   \n",
      "4  \"15-Breast-Her2-ampl\"                  True              False   \n",
      "\n",
      "   Cancer Type_\"GBM\"  Cancer Type_\"HC\"  Cancer Type_\"Hepatobiliary\"  \\\n",
      "0              False             False                        False   \n",
      "1              False             False                        False   \n",
      "2              False             False                        False   \n",
      "3              False             False                        False   \n",
      "4              False             False                        False   \n",
      "\n",
      "   Cancer Type_\"Lung\"  Cancer Type_\"Pancreas\"  \\\n",
      "0               False                   False   \n",
      "1               False                   False   \n",
      "2               False                   False   \n",
      "3               False                   False   \n",
      "4               False                   False   \n",
      "\n",
      "   Cancer Type_\"mutational subclass: EGFR\"  \\\n",
      "0                                    False   \n",
      "1                                    False   \n",
      "2                                    False   \n",
      "3                                    False   \n",
      "4                                    False   \n",
      "\n",
      "   Cancer Type_\"mutational subclass: HER2+\"  \\\n",
      "0                                     False   \n",
      "1                                     False   \n",
      "2                                     False   \n",
      "3                                     False   \n",
      "4                                     False   \n",
      "\n",
      "   Cancer Type_\"mutational subclass: KRAS\"  \\\n",
      "0                                    False   \n",
      "1                                    False   \n",
      "2                                    False   \n",
      "3                                    False   \n",
      "4                                    False   \n",
      "\n",
      "   Cancer Type_\"mutational subclass: PIK3CA\"  \\\n",
      "0                                      False   \n",
      "1                                      False   \n",
      "2                                      False   \n",
      "3                                      False   \n",
      "4                                      False   \n",
      "\n",
      "   Cancer Type_\"mutational subclass: wt\"  \n",
      "0                                  False  \n",
      "1                                  False  \n",
      "2                                  False  \n",
      "3                                  False  \n",
      "4                                  False  \n"
     ]
    },
    {
     "name": "stderr",
     "output_type": "stream",
     "text": [
      "/var/folders/x1/4ffcbyys3j9b4z3p5kdqn3jh0000gn/T/ipykernel_80732/3673211878.py:6: SettingWithCopyWarning: \n",
      "A value is trying to be set on a copy of a slice from a DataFrame.\n",
      "Try using .loc[row_indexer,col_indexer] = value instead\n",
      "\n",
      "See the caveats in the documentation: https://pandas.pydata.org/pandas-docs/stable/user_guide/indexing.html#returning-a-view-versus-a-copy\n",
      "  series_matrix_source_cancer['Cancer Type'] = series_matrix_source_cancer['Cancer Type'].str.replace('cancer type: ', '')\n"
     ]
    }
   ],
   "source": [
    "# Keep only the sample source and cancer type columns\n",
    "series_matrix_source_cancer = series_matrix[['!Sample_source_name_ch1', '!Sample_characteristics_ch1.3']]\n",
    "# Rename the columns\n",
    "series_matrix_source_cancer.columns = ['Source', 'Cancer Type']\n",
    "# Delete the cancer type in str\n",
    "series_matrix_source_cancer['Cancer Type'] = series_matrix_source_cancer['Cancer Type'].str.replace('cancer type: ', '')\n",
    "# One hot encode the cancer type\n",
    "series_matrix_source_cancer = pd.get_dummies(series_matrix_source_cancer, columns=['Cancer Type'])\n",
    "print(series_matrix_source_cancer.head())\n",
    "\n",
    "# Write the data to a csv file\n",
    "series_matrix_source_cancer.to_csv('data/series_matrix_source_cancer.csv', index=False)"
   ]
  },
  {
   "cell_type": "markdown",
   "metadata": {},
   "source": [
    "# Visualization"
   ]
  },
  {
   "cell_type": "code",
   "execution_count": 5,
   "metadata": {},
   "outputs": [
    {
     "name": "stdout",
     "output_type": "stream",
     "text": [
      "   gene_ID              samples  FPKM\n",
      "0        0          8-Breast-WT     0\n",
      "1        0          8-Breast-WT     0\n",
      "2       44          8-Breast-WT    14\n",
      "3        0  10-Breast-Her2-ampl     0\n",
      "4        0  10-Breast-Her2-ampl     0\n",
      "Empty DataFrame\n",
      "Columns: [samples, FPKM]\n",
      "Index: []\n"
     ]
    }
   ],
   "source": [
    "patient_data = pd.read_csv('data/series_matrix_source_cancer.csv')\n",
    "rna_expression = pd.read_csv('data/GSE68086_TEP_data_matrix.csv', index_col=0)[:3]\n",
    "rna_expression.columns.values[0] = 'gene_ID'\n",
    "rna_expression_long = rna_expression.melt(id_vars=['gene_ID'], var_name='samples', value_name='FPKM')\n",
    "print(rna_expression_long.head())\n",
    "\n",
    "# Get patients that have breast cancer\n",
    "breast_cancer_patients = patient_data[patient_data['Cancer Type_\"Breast\"'] == 1]\n",
    "# Get the rna expression of the breast cancer patients\n",
    "breast_cancer_rna_expression = rna_expression_long[rna_expression_long['samples'].isin(breast_cancer_patients['Source'])]\n",
    "# Get the average rna expression of the breast cancer patients\n",
    "breast_cancer_rna_expression_avg = breast_cancer_rna_expression.groupby('gene_ID').mean()\n",
    "# Get the top 10 genes\n",
    "top_10_genes = breast_cancer_rna_expression_avg.sort_values('FPKM', ascending=False).head(10)\n",
    "print(top_10_genes)\n"
   ]
  }
 ],
 "metadata": {
  "kernelspec": {
   "display_name": "venv",
   "language": "python",
   "name": "python3"
  },
  "language_info": {
   "codemirror_mode": {
    "name": "ipython",
    "version": 3
   },
   "file_extension": ".py",
   "mimetype": "text/x-python",
   "name": "python",
   "nbconvert_exporter": "python",
   "pygments_lexer": "ipython3",
   "version": "3.11.6"
  }
 },
 "nbformat": 4,
 "nbformat_minor": 2
}
